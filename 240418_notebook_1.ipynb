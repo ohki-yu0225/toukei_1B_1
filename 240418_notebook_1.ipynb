{
  "cells": [
    {
      "cell_type": "markdown",
      "metadata": {
        "id": "view-in-github",
        "colab_type": "text"
      },
      "source": [
        "<a href=\"https://colab.research.google.com/github/ohki-yu0225/toukei_1B_1/blob/main/240418_notebook_1.ipynb\" target=\"_parent\"><img src=\"https://colab.research.google.com/assets/colab-badge.svg\" alt=\"Open In Colab\"/></a>"
      ]
    },
    {
      "cell_type": "markdown",
      "id": "f997aa90",
      "metadata": {
        "id": "f997aa90"
      },
      "source": [
        "# 統計学実習IB 第1回\n",
        "担当：大木 有<br>\n",
        "日時：2024年4月12日（金）\n",
        "\n",
        "## 講義内容\n",
        "- 統計学実習で使用する主なライブラリの練習\n",
        "    - Pandas\n",
        "    - Numpy\n",
        "    - Matplotlib"
      ]
    },
    {
      "cell_type": "markdown",
      "id": "50b498f1-00d9-41f2-934f-fe4bac28acd7",
      "metadata": {
        "id": "50b498f1-00d9-41f2-934f-fe4bac28acd7"
      },
      "source": [
        "## Pandas, Numpy, Matplotlibのインポート"
      ]
    },
    {
      "cell_type": "code",
      "execution_count": null,
      "id": "ccb71f23-1de5-4f8e-93b8-fee9c4ebe7f2",
      "metadata": {
        "id": "ccb71f23-1de5-4f8e-93b8-fee9c4ebe7f2"
      },
      "outputs": [],
      "source": [
        "!pip install japanize_matplotlib\n",
        "import pandas as pd\n",
        "import numpy as np\n",
        "import matplotlib.pyplot as plt\n",
        "import japanize_matplotlib"
      ]
    },
    {
      "cell_type": "markdown",
      "id": "154144a1-c260-40b4-9de0-a77bead3d758",
      "metadata": {
        "id": "154144a1-c260-40b4-9de0-a77bead3d758"
      },
      "source": [
        "## Pandas\n",
        "### データの読み込み"
      ]
    },
    {
      "cell_type": "code",
      "execution_count": null,
      "id": "f88715d7-470d-4981-9348-e4058cb71731",
      "metadata": {
        "id": "f88715d7-470d-4981-9348-e4058cb71731"
      },
      "outputs": [],
      "source": [
        "# データの読み込み（時系列データ）\n",
        "print('データソース：国勢調査時系列データ')\n",
        "time_series_sample = pd.read_csv('time_series_sample.csv', encoding=\"shift-jis\") #データの読み込み(日本語が含まれているファイルは\"shift-jisを指定するのがベター\")\n",
        "time_series_sample.head(10)"
      ]
    },
    {
      "cell_type": "markdown",
      "id": "fbe279d6-b816-4e92-97b5-e4f5b32839eb",
      "metadata": {
        "id": "fbe279d6-b816-4e92-97b5-e4f5b32839eb"
      },
      "source": [
        "### データの抽出"
      ]
    },
    {
      "cell_type": "code",
      "execution_count": null,
      "id": "6c154f2e-5856-476b-90c6-c9be52cbb9d2",
      "metadata": {
        "id": "6c154f2e-5856-476b-90c6-c9be52cbb9d2"
      },
      "outputs": [],
      "source": [
        "#任意の行のデータを抽出\n",
        "time_series_sample[10:15]"
      ]
    },
    {
      "cell_type": "code",
      "execution_count": null,
      "id": "d8969169-847a-4e97-ad6d-2fb4db8ba89e",
      "metadata": {
        "id": "d8969169-847a-4e97-ad6d-2fb4db8ba89e"
      },
      "outputs": [],
      "source": [
        "#任意の列のデータを抽出\n",
        "time_series_sample[['埼玉（男性）','埼玉（女性）']]"
      ]
    },
    {
      "cell_type": "code",
      "execution_count": null,
      "id": "690d0f11-1c8b-4003-92aa-4c58e3406744",
      "metadata": {
        "id": "690d0f11-1c8b-4003-92aa-4c58e3406744"
      },
      "outputs": [],
      "source": [
        "#任意の行のデータを抽出（iloc）\n",
        "#ilocは行を番号で指示する df.iloc[行の番号]\n",
        "display(time_series_sample.iloc[10])\n",
        "display(time_series_sample.iloc[10:15])"
      ]
    },
    {
      "cell_type": "code",
      "execution_count": null,
      "id": "28719882-ec3e-423d-98a9-411eb9091a59",
      "metadata": {
        "id": "28719882-ec3e-423d-98a9-411eb9091a59"
      },
      "outputs": [],
      "source": [
        "#任意の行・列のデータを抽出（iloc）\n",
        "#ilocは行・列を番号で指示する df.iloc[行の番号, 列の番号]\n",
        "display(time_series_sample.iloc[10, 4])\n",
        "display(time_series_sample.iloc[10:15, 1:3])"
      ]
    },
    {
      "cell_type": "code",
      "execution_count": null,
      "id": "bc7c7981-7ec8-437a-b2ab-23e020d695a8",
      "metadata": {
        "id": "bc7c7981-7ec8-437a-b2ab-23e020d695a8"
      },
      "outputs": [],
      "source": [
        "#任意の行のデータを抽出（loc）\n",
        "#locは行をインデックス・ラベルで指示する df.loc[行のインデックス・ラベル]\n",
        "time_series_sample_new = time_series_sample.set_index('年', inplace = False) #インデックスを'年'に設定し直す\n",
        "display(time_series_sample_new.loc[1970])\n",
        "display(time_series_sample_new.loc[1970:1990])"
      ]
    },
    {
      "cell_type": "code",
      "execution_count": null,
      "id": "ed9622a0-441c-4185-b68a-1609eeed45e9",
      "metadata": {
        "id": "ed9622a0-441c-4185-b68a-1609eeed45e9"
      },
      "outputs": [],
      "source": [
        "#任意の行のデータを抽出（loc）\n",
        "#locは行・列をインデックス・ラベルで指示する df.loc[行のインデックス・ラベル, 列のラベル]\n",
        "display(time_series_sample_new.loc[1970, '埼玉（総数）'])\n",
        "display(time_series_sample_new.loc[1970:1990, ['全国（男性）', '全国（女性）']])"
      ]
    },
    {
      "cell_type": "code",
      "execution_count": null,
      "id": "16575aeb-7ff7-4cf8-a91d-5edd3903dd6a",
      "metadata": {
        "id": "16575aeb-7ff7-4cf8-a91d-5edd3903dd6a"
      },
      "outputs": [],
      "source": [
        "# 条件を指定してデータを抽出\n",
        "# df[df['y列のラベル'] == x] y列のラベルがxの行を抽出（'=='以外にも'>', '>=', '<', '<='）なども使える。詳細はPythonの「比較演算子」を確認する）\n",
        "display(time_series_sample[(time_series_sample['年'] == 2020)])\n",
        "display(time_series_sample[(time_series_sample['年'] > 1995)])"
      ]
    },
    {
      "cell_type": "markdown",
      "id": "9bddbd5e-9ab6-43cf-a949-837624881b00",
      "metadata": {
        "id": "9bddbd5e-9ab6-43cf-a949-837624881b00"
      },
      "source": [
        "### データの追加"
      ]
    },
    {
      "cell_type": "code",
      "execution_count": null,
      "id": "ed61c32f-103d-4701-9b4e-c5891e99e0c3",
      "metadata": {
        "id": "ed61c32f-103d-4701-9b4e-c5891e99e0c3"
      },
      "outputs": [],
      "source": [
        "# 列の追加\n",
        "time_series_sample['全国（男女比）'] = time_series_sample['全国（男性）']/time_series_sample['全国（女性）']\n",
        "time_series_sample['埼玉（男女比）'] = time_series_sample['埼玉（男性）']/time_series_sample['埼玉（女性）']\n",
        "time_series_sample.head(5)"
      ]
    },
    {
      "cell_type": "markdown",
      "id": "d0324d7f-b538-4278-9b4d-d0f3a705ac46",
      "metadata": {
        "id": "d0324d7f-b538-4278-9b4d-d0f3a705ac46"
      },
      "source": [
        "## Numpy"
      ]
    },
    {
      "cell_type": "markdown",
      "id": "64e100ce-0014-4291-a916-16852dcb53f0",
      "metadata": {
        "id": "64e100ce-0014-4291-a916-16852dcb53f0"
      },
      "source": [
        "### PandasのデータをNumpyで処理"
      ]
    },
    {
      "cell_type": "code",
      "execution_count": null,
      "id": "0ba9c8cc-7cbc-4199-80fe-5dbce3bc1141",
      "metadata": {
        "id": "0ba9c8cc-7cbc-4199-80fe-5dbce3bc1141"
      },
      "outputs": [],
      "source": [
        "# PandasのDataFrame形式のデータをnumpyのarray形式に変換\n",
        "saitama_pop = np.array(time_series_sample['埼玉（総数）']) #1次元配列になる\n",
        "saitama_pop_mf = np.array(time_series_sample[['埼玉（男性）','埼玉（女性）']]) #2次元配列になる\n",
        "print(saitama_pop)\n",
        "print(saitama_pop_mf)"
      ]
    },
    {
      "cell_type": "markdown",
      "id": "f55b56c6-337f-4314-a2d3-14851ebedeb4",
      "metadata": {
        "id": "f55b56c6-337f-4314-a2d3-14851ebedeb4"
      },
      "source": [
        "### データの抽出"
      ]
    },
    {
      "cell_type": "code",
      "execution_count": null,
      "id": "7a11f4db-ca39-4d15-9c45-c0f520665ac1",
      "metadata": {
        "id": "7a11f4db-ca39-4d15-9c45-c0f520665ac1"
      },
      "outputs": [],
      "source": [
        "# numpyの行列からデータを抽出\n",
        "#1次元配列のarray\n",
        "print(saitama_pop[0]) #array[x]でx番目のデータを抽出\n",
        "print(saitama_pop[1:4]) #array[x:y]でxからy-1番目までのデータを抽出\n",
        "print(saitama_pop[-1]) #[-1]を指定すれば、配列の最後のデータを抽出\n",
        "\n",
        "# 2次元配列のarray\n",
        "print(saitama_pop_mf[0]) #array[x]でx行目のデータを抽出\n",
        "print(saitama_pop_mf[2, 0]) #array[x, y]でx行、y列目のデータを抽出"
      ]
    },
    {
      "cell_type": "markdown",
      "id": "f43dffda-6eb5-492c-9895-9c80640a62aa",
      "metadata": {
        "id": "f43dffda-6eb5-492c-9895-9c80640a62aa"
      },
      "source": [
        "### 最大値、最小値、平均値、中央値、合計などの計算"
      ]
    },
    {
      "cell_type": "code",
      "execution_count": null,
      "id": "56afae07-1447-409e-a3d4-d7be4f265497",
      "metadata": {
        "id": "56afae07-1447-409e-a3d4-d7be4f265497"
      },
      "outputs": [],
      "source": [
        "# 1次元行列の計算\n",
        "print(f'最小値: {saitama_pop.min()}') # 最小値\n",
        "print(f'最大値: {saitama_pop.max()}') # 最大値\n",
        "print(f'平均値: {saitama_pop.mean()}') # 平均値\n",
        "print(f'中央値: {np.median(saitama_pop)}') # 中央値"
      ]
    },
    {
      "cell_type": "code",
      "execution_count": null,
      "id": "4cc928d4-98a0-4362-8a54-a94a89a57d24",
      "metadata": {
        "id": "4cc928d4-98a0-4362-8a54-a94a89a57d24"
      },
      "outputs": [],
      "source": [
        "# 2次元行列の計算\n",
        "#全要素の合計\n",
        "# axisを指定しないと全要素を対象に計算を行う\n",
        "all_sum = saitama_pop_mf.sum()\n",
        "print(f'総数の合計: {all_sum}')\n",
        "\n",
        "# 行方向の合計\n",
        "# axis=0を指定すると行方向に計算を行う\n",
        "# 行方向の合計は1970年から2020年までの男女別人口の合計\n",
        "low_sum = saitama_pop_mf.sum(axis=0)\n",
        "print(f'男性数の合計: {low_sum[0]}')\n",
        "print(f'女性数の合計: {low_sum[1]}')\n",
        "# 列方向の平均値\n",
        "# axis=1を指定すると行方向に計算を行う\n",
        "# 列方向の合計は1970年から2020年の各年の男女別人口の合計（=各年の人口総数）\n",
        "column_sum = saitama_pop_mf.sum(axis=1)\n",
        "print(f'2020年の総数: {column_sum[-1]}')"
      ]
    },
    {
      "cell_type": "markdown",
      "id": "9cc49095-dfb9-45b0-900b-d406a10c6c50",
      "metadata": {
        "id": "9cc49095-dfb9-45b0-900b-d406a10c6c50"
      },
      "source": [
        "## Matplotlib"
      ]
    },
    {
      "cell_type": "markdown",
      "id": "822191c5-a532-4819-aa48-7354b14d5041",
      "metadata": {
        "id": "822191c5-a532-4819-aa48-7354b14d5041"
      },
      "source": [
        "### 折れ線グラフの出力"
      ]
    },
    {
      "cell_type": "code",
      "execution_count": null,
      "id": "1f79644e-26ca-42a2-9b6b-95f185d0b089",
      "metadata": {
        "id": "1f79644e-26ca-42a2-9b6b-95f185d0b089"
      },
      "outputs": [],
      "source": [
        "# プロットの作成\n",
        "plt.plot(time_series_sample['年'], time_series_sample['全国（総数）']) #x軸, y軸にプロットしたい変数の列を指定\n",
        "\n",
        "# タイトルと軸ラベルの追加\n",
        "plt.title('全国の人口総数の推移')\n",
        "plt.xlabel('年')\n",
        "plt.ylabel('人口')\n",
        "\n",
        "# グラフの表示\n",
        "plt.show()"
      ]
    },
    {
      "cell_type": "code",
      "execution_count": null,
      "id": "167383ac-6b62-4064-adc1-389794f26758",
      "metadata": {
        "id": "167383ac-6b62-4064-adc1-389794f26758"
      },
      "outputs": [],
      "source": [
        "#複数の線を同時に出力\n",
        "# プロットの作成\n",
        "plt.plot(time_series_sample['年'], time_series_sample[['全国（男性）', '全国（女性）']]) #x軸, y軸にプロットしたい変数の列を指定\n",
        "\n",
        "# タイトルと軸ラベルの追加\n",
        "plt.title('全国の男女別人口数の推移')\n",
        "plt.xlabel('年')\n",
        "plt.ylabel('人口')\n",
        "\n",
        "# 凡例の追加\n",
        "plt.legend(['全国（男性）', '全国（女性）'])\n",
        "\n",
        "# グラフの表示\n",
        "plt.show()"
      ]
    },
    {
      "cell_type": "markdown",
      "id": "907b4eb8-09be-4c09-9947-3a86efefda70",
      "metadata": {
        "id": "907b4eb8-09be-4c09-9947-3a86efefda70"
      },
      "source": [
        "### 散布図の出力"
      ]
    },
    {
      "cell_type": "code",
      "execution_count": null,
      "id": "b7582cb1-5432-4680-90f8-dd126c25ee57",
      "metadata": {
        "id": "b7582cb1-5432-4680-90f8-dd126c25ee57"
      },
      "outputs": [],
      "source": [
        "# プロットの作成\n",
        "plt.plot(time_series_sample['全国（男性）'], time_series_sample['全国（女性）'], 'o') #x軸, y軸にプロットしたい変数の列を指定\n",
        "\n",
        "# タイトルと軸ラベルの追加\n",
        "plt.title('全国の男性人口数と女性人口数の散布図')\n",
        "plt.xlabel('全国（男性）')\n",
        "plt.ylabel('全国（女性）')\n",
        "\n",
        "# グラフの表示\n",
        "plt.show()"
      ]
    },
    {
      "cell_type": "code",
      "execution_count": null,
      "id": "d06958ff-8e0f-406e-a71d-b987f3aaccdd",
      "metadata": {
        "id": "d06958ff-8e0f-406e-a71d-b987f3aaccdd"
      },
      "outputs": [],
      "source": [
        "# データラベルを追加する\n",
        "# プロットの作成\n",
        "plt.plot(time_series_sample['全国（男性）'], time_series_sample['全国（女性）'], 'o') #x軸, y軸にプロットしたい変数の列を指定\n",
        "\n",
        "# データラベルを追加\n",
        "for i, label in enumerate(time_series_sample['年']): #ラベルにしたい列を指定して、順番に値を呼び出す\n",
        "    plt.annotate(label, (time_series_sample['全国（男性）'][i], time_series_sample['全国（女性）'][i])) #i番目のx,y座標位置にi番目の都市を表示する\n",
        "\n",
        "# タイトルと軸ラベルの追加\n",
        "plt.title('全国の男性人口数と女性人口数の散布図')\n",
        "plt.xlabel('全国（男性）')\n",
        "plt.ylabel('全国（女性）')\n",
        "\n",
        "# グラフの表示\n",
        "plt.show()"
      ]
    },
    {
      "cell_type": "markdown",
      "id": "57f498ae-e4ca-47f6-ad01-7eb8b67f6762",
      "metadata": {
        "id": "57f498ae-e4ca-47f6-ad01-7eb8b67f6762"
      },
      "source": [
        "### ヒストグラムの出力"
      ]
    },
    {
      "cell_type": "code",
      "execution_count": null,
      "id": "f246230a-30e2-49b4-a0ad-947a0b7ec853",
      "metadata": {
        "id": "f246230a-30e2-49b4-a0ad-947a0b7ec853"
      },
      "outputs": [],
      "source": [
        "# 平均が0で標準偏差が1の正規分布から乱数を1,000個発生させる\n",
        "x = np.random.randn(1000)\n",
        "\n",
        "# ヒストグラムの描写\n",
        "plt.hist(x, bins=50) #'bins'でビンの数を指定する\n",
        "\n",
        "# タイトルと軸ラベルの追加\n",
        "plt.title('正規分布に従う乱数のヒストグラム')\n",
        "plt.xlabel('値')\n",
        "plt.ylabel('出現回数')\n",
        "\n",
        "# グラフの表示\n",
        "plt.show()"
      ]
    },
    {
      "cell_type": "code",
      "execution_count": null,
      "id": "bd6741e9-df4e-4975-93a3-0a55c235c337",
      "metadata": {
        "id": "bd6741e9-df4e-4975-93a3-0a55c235c337"
      },
      "outputs": [],
      "source": [
        "# ヒストグラムを重ねて表示する\n",
        "# 平均が0で標準偏差が1の正規分布から乱数を1,000, 5,000, 50000個発生させる\n",
        "x = np.random.randn(1000)\n",
        "y = np.random.randn(5000)\n",
        "z = np.random.randn(50000)\n",
        "\n",
        "# ヒストグラムの描写\n",
        "plt.hist(x, bins=50, label='1000', facecolor='blue', edgecolor='black', alpha=0.3, density=True) # alpha は透明度, density=Trueで頻度に正規化\n",
        "plt.hist(y, bins=50, label='5000', facecolor='green', edgecolor='black', alpha=0.3, density=True) # alpha は透明度, density=Trueで頻度に正規化\n",
        "plt.hist(z, bins=50, label='50000', facecolor='red', edgecolor='black', alpha=0.3, density=True) # alpha は透明度, density=Trueで頻度に正規化\n",
        "\n",
        "# タイトルと軸ラベルの追加\n",
        "plt.title('正規分布に従う乱数のヒストグラム')\n",
        "plt.xlabel('値')\n",
        "plt.ylabel('出現頻度')\n",
        "\n",
        "# 凡例の表示\n",
        "plt.legend(loc='upper left')\n",
        "\n",
        "# グラフの表示\n",
        "plt.show()"
      ]
    },
    {
      "cell_type": "markdown",
      "id": "eea0a0dd-3fe5-4425-8fc6-5ff2b44b9360",
      "metadata": {
        "id": "eea0a0dd-3fe5-4425-8fc6-5ff2b44b9360"
      },
      "source": [
        "## 練習"
      ]
    },
    {
      "cell_type": "markdown",
      "id": "0f68dd5a-ce29-4665-95f4-473adcdfdb5d",
      "metadata": {
        "id": "0f68dd5a-ce29-4665-95f4-473adcdfdb5d"
      },
      "source": [
        "## Pandasの練習"
      ]
    },
    {
      "cell_type": "code",
      "execution_count": null,
      "id": "f9e5f07b-c3de-4ada-9af3-22a81c6c3841",
      "metadata": {
        "id": "f9e5f07b-c3de-4ada-9af3-22a81c6c3841"
      },
      "outputs": [],
      "source": [
        "# データの読み込み\n",
        "#練習 1 'panel_sample.csv'をDataframeとして読み込んで、最初の10行のデータを表示してください。練習 2~12まで練習 1で読み込んだデータを処理してください。\n",
        "print('データソース：埼玉県推計人口') #データソースを表示\n",
        "..."
      ]
    },
    {
      "cell_type": "code",
      "execution_count": null,
      "id": "5baab3af-e357-4619-a7cc-29b23246d743",
      "metadata": {
        "id": "5baab3af-e357-4619-a7cc-29b23246d743"
      },
      "outputs": [],
      "source": [
        "# データの操作 1\n",
        "# 練習 2 読み込んだデータから任意の10行分のデータを抽出してください。ただし、最初の10行以外の行を表示してください。\n",
        "..."
      ]
    },
    {
      "cell_type": "code",
      "execution_count": null,
      "id": "c0f2335e-8df4-4ab0-84b3-249b2341c895",
      "metadata": {
        "id": "c0f2335e-8df4-4ab0-84b3-249b2341c895"
      },
      "outputs": [],
      "source": [
        "# データの操作 2\n",
        "# 練習 3 任意の2列分のデータを抽出してください。\n",
        "..."
      ]
    },
    {
      "cell_type": "code",
      "execution_count": null,
      "id": "e2de3418-a2a1-4df4-ac8a-1fb93a1bfbd2",
      "metadata": {
        "id": "e2de3418-a2a1-4df4-ac8a-1fb93a1bfbd2"
      },
      "outputs": [],
      "source": [
        "# データの操作 3\n",
        "# 練習 4 「熊谷市」の行のデータを抽出してください\n",
        "..."
      ]
    },
    {
      "cell_type": "code",
      "execution_count": null,
      "id": "0ca9cc60-daed-42a0-9159-da413339593d",
      "metadata": {
        "id": "0ca9cc60-daed-42a0-9159-da413339593d"
      },
      "outputs": [],
      "source": [
        "# データの操作 4\n",
        "# 練習 5 'kumagaya_jinkou'に「熊谷市」の人口を代入して、出力してください。\n",
        "...\n",
        "print(f'熊谷市の人口: {...} 人')"
      ]
    },
    {
      "cell_type": "code",
      "execution_count": null,
      "id": "e690f123-36ea-4319-b6b2-9f392193636a",
      "metadata": {
        "id": "e690f123-36ea-4319-b6b2-9f392193636a"
      },
      "outputs": [],
      "source": [
        "# データの追加\n",
        "# 練習 6 1世帯あたりの人口数を計算し、'人口/世帯数'という名前の列として追加してください。\n",
        "..."
      ]
    },
    {
      "cell_type": "markdown",
      "id": "388348c9-1932-4b64-9a19-c858b80a3263",
      "metadata": {
        "id": "388348c9-1932-4b64-9a19-c858b80a3263"
      },
      "source": [
        "## Numpyの練習"
      ]
    },
    {
      "cell_type": "code",
      "execution_count": null,
      "id": "aa5fae5b-05e8-4dbc-be98-d9fe0c5dc9b4",
      "metadata": {
        "id": "aa5fae5b-05e8-4dbc-be98-d9fe0c5dc9b4"
      },
      "outputs": [],
      "source": [
        "# PandasのデータをNumpyで処理 1\n",
        "# 練習 7 '人口/世帯数'をNumpyの1次元のarray形式に変換して、出力してください。\n",
        "..."
      ]
    },
    {
      "cell_type": "code",
      "execution_count": null,
      "id": "68752bbc-85a7-410a-ad31-d9b375a0bb90",
      "metadata": {
        "id": "68752bbc-85a7-410a-ad31-d9b375a0bb90"
      },
      "outputs": [],
      "source": [
        "# PandasのデータをNumpyで処理 2\n",
        "# 練習 8 '人口'と'世帯数'をNumpyの2次元のarray形式に変換して、出力してください。\n",
        "..."
      ]
    },
    {
      "cell_type": "code",
      "execution_count": null,
      "id": "7725e935-965c-4dbc-96fb-1c05e1da3a61",
      "metadata": {
        "id": "7725e935-965c-4dbc-96fb-1c05e1da3a61"
      },
      "outputs": [],
      "source": [
        "# 最大値、最小値、平均値、中央値、合計などの計算 1\n",
        "# 練習 9 練習7で出力した1次元行列から1世帯あたり人口の最大値、最小値、平均値のどれかを計算し、出力してください。\n",
        "...\n",
        "print(f'1世帯あたり人口の（最大値、最小値、平均値）: {...}')"
      ]
    },
    {
      "cell_type": "code",
      "execution_count": null,
      "id": "6a7aafbe-7f15-4cf0-a7ae-a934e8701d1d",
      "metadata": {
        "id": "6a7aafbe-7f15-4cf0-a7ae-a934e8701d1d"
      },
      "outputs": [],
      "source": [
        "# 最大値、最小値、平均値、中央値、合計などの計算 2\n",
        "# 練習 10 練習8で出力した2次元行列から人口と世帯数の最大値、最小値、平均値のどれかを計算し、出力してください。\n",
        "...\n",
        "print(f'人口の（最大値、最小値、平均値）: {...}')\n",
        "print(f'世帯数の（最大値、最小値、平均値）: {...}')"
      ]
    },
    {
      "cell_type": "markdown",
      "id": "45ac3357-5232-493b-b71a-60f8c606158e",
      "metadata": {
        "id": "45ac3357-5232-493b-b71a-60f8c606158e"
      },
      "source": [
        "## Matplotlibの練習"
      ]
    },
    {
      "cell_type": "code",
      "execution_count": null,
      "id": "6afff0e9-251e-4b4b-a475-a5ff32db1c39",
      "metadata": {
        "id": "6afff0e9-251e-4b4b-a475-a5ff32db1c39"
      },
      "outputs": [],
      "source": [
        "# 散布図の出力\n",
        "# 練習 11 '人口'と'前月からの増加数'の散布図を作成してください。タイトルや軸ラベル等も適切に表示してください。\n",
        "..."
      ]
    },
    {
      "cell_type": "code",
      "execution_count": null,
      "id": "3318fbe7-08bf-48b8-bc7e-54bbcc187a56",
      "metadata": {
        "id": "3318fbe7-08bf-48b8-bc7e-54bbcc187a56"
      },
      "outputs": [],
      "source": [
        "# ヒストグラムの出力\n",
        "# 練習 12 '人口/世帯数'の散布図を作成してください。タイトルや軸ラベル等も適切に表示してください。ビンの数は指定しなくて構わない。\n",
        "..."
      ]
    }
  ],
  "metadata": {
    "kernelspec": {
      "display_name": "Python 3 (ipykernel)",
      "language": "python",
      "name": "python3"
    },
    "language_info": {
      "codemirror_mode": {
        "name": "ipython",
        "version": 3
      },
      "file_extension": ".py",
      "mimetype": "text/x-python",
      "name": "python",
      "nbconvert_exporter": "python",
      "pygments_lexer": "ipython3",
      "version": "3.10.14"
    },
    "colab": {
      "provenance": [],
      "include_colab_link": true
    }
  },
  "nbformat": 4,
  "nbformat_minor": 5
}